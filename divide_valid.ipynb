{
 "cells": [
  {
   "cell_type": "code",
   "execution_count": 24,
   "id": "5023eeee",
   "metadata": {},
   "outputs": [],
   "source": [
    "import os\n",
    "import pandas as pd"
   ]
  },
  {
   "cell_type": "code",
   "execution_count": 25,
   "id": "15b92849",
   "metadata": {},
   "outputs": [],
   "source": [
    "# 读取train.csv文件\n",
    "train_df = pd.read_csv('E:\\HMS2024/train.csv')"
   ]
  },
  {
   "cell_type": "code",
   "execution_count": 26,
   "id": "18a85f52",
   "metadata": {
    "scrolled": true
   },
   "outputs": [],
   "source": [
    "# 遍历validation_spectrograms文件夹，获取所有.parquet文件的前缀\n",
    "validation_dir = 'E:\\HMS2024/validation_spectrograms'\n",
    "file_prefixes = [file.split('.')[0] for file in os.listdir(validation_dir) if file.endswith('.parquet')]"
   ]
  },
  {
   "cell_type": "code",
   "execution_count": 27,
   "id": "70d0c6d4",
   "metadata": {},
   "outputs": [],
   "source": [
    "file_prefixes = [int(prefix) for prefix in file_prefixes]"
   ]
  },
  {
   "cell_type": "code",
   "execution_count": 28,
   "id": "4ecbad73",
   "metadata": {},
   "outputs": [
    {
     "data": {
      "text/html": [
       "<div>\n",
       "<style scoped>\n",
       "    .dataframe tbody tr th:only-of-type {\n",
       "        vertical-align: middle;\n",
       "    }\n",
       "\n",
       "    .dataframe tbody tr th {\n",
       "        vertical-align: top;\n",
       "    }\n",
       "\n",
       "    .dataframe thead th {\n",
       "        text-align: right;\n",
       "    }\n",
       "</style>\n",
       "<table border=\"1\" class=\"dataframe\">\n",
       "  <thead>\n",
       "    <tr style=\"text-align: right;\">\n",
       "      <th></th>\n",
       "      <th>eeg_id</th>\n",
       "      <th>eeg_sub_id</th>\n",
       "      <th>eeg_label_offset_seconds</th>\n",
       "      <th>spectrogram_id</th>\n",
       "      <th>spectrogram_sub_id</th>\n",
       "      <th>spectrogram_label_offset_seconds</th>\n",
       "      <th>label_id</th>\n",
       "      <th>patient_id</th>\n",
       "      <th>expert_consensus</th>\n",
       "      <th>seizure_vote</th>\n",
       "      <th>lpd_vote</th>\n",
       "      <th>gpd_vote</th>\n",
       "      <th>lrda_vote</th>\n",
       "      <th>grda_vote</th>\n",
       "      <th>other_vote</th>\n",
       "    </tr>\n",
       "  </thead>\n",
       "  <tbody>\n",
       "    <tr>\n",
       "      <th>11096</th>\n",
       "      <td>1524323641</td>\n",
       "      <td>0</td>\n",
       "      <td>0.0</td>\n",
       "      <td>210869762</td>\n",
       "      <td>0</td>\n",
       "      <td>0.0</td>\n",
       "      <td>1329078426</td>\n",
       "      <td>15221</td>\n",
       "      <td>Other</td>\n",
       "      <td>0</td>\n",
       "      <td>0</td>\n",
       "      <td>0</td>\n",
       "      <td>0</td>\n",
       "      <td>0</td>\n",
       "      <td>13</td>\n",
       "    </tr>\n",
       "    <tr>\n",
       "      <th>11097</th>\n",
       "      <td>1524323641</td>\n",
       "      <td>1</td>\n",
       "      <td>2.0</td>\n",
       "      <td>210869762</td>\n",
       "      <td>1</td>\n",
       "      <td>2.0</td>\n",
       "      <td>2044974852</td>\n",
       "      <td>15221</td>\n",
       "      <td>Other</td>\n",
       "      <td>0</td>\n",
       "      <td>0</td>\n",
       "      <td>0</td>\n",
       "      <td>0</td>\n",
       "      <td>0</td>\n",
       "      <td>13</td>\n",
       "    </tr>\n",
       "  </tbody>\n",
       "</table>\n",
       "</div>"
      ],
      "text/plain": [
       "           eeg_id  eeg_sub_id  eeg_label_offset_seconds  spectrogram_id  \\\n",
       "11096  1524323641           0                       0.0       210869762   \n",
       "11097  1524323641           1                       2.0       210869762   \n",
       "\n",
       "       spectrogram_sub_id  spectrogram_label_offset_seconds    label_id  \\\n",
       "11096                   0                               0.0  1329078426   \n",
       "11097                   1                               2.0  2044974852   \n",
       "\n",
       "       patient_id expert_consensus  seizure_vote  lpd_vote  gpd_vote  \\\n",
       "11096       15221            Other             0         0         0   \n",
       "11097       15221            Other             0         0         0   \n",
       "\n",
       "       lrda_vote  grda_vote  other_vote  \n",
       "11096          0          0          13  \n",
       "11097          0          0          13  "
      ]
     },
     "execution_count": 28,
     "metadata": {},
     "output_type": "execute_result"
    }
   ],
   "source": [
    "train_df[train_df['spectrogram_id'] == file_prefixes[0]]"
   ]
  },
  {
   "cell_type": "code",
   "execution_count": 29,
   "id": "287ff103",
   "metadata": {},
   "outputs": [],
   "source": [
    "# 根据前缀匹配train.csv中的spectrogram_id\n",
    "matched_rows = train_df[train_df['spectrogram_id'].isin(file_prefixes)]\n",
    "\n",
    "# 保存匹配的行到新的CSV文件\n",
    "matched_rows.to_csv('validation.csv', index=False)\n",
    "\n",
    "# 从原始的train.csv中删除匹配的行\n",
    "updated_train_df = train_df[~train_df['spectrogram_id'].isin(file_prefixes)]\n",
    "\n",
    "# 保存修改后的train.csv到新的文件\n",
    "updated_train_df.to_csv('updated_train.csv', index=False)"
   ]
  },
  {
   "cell_type": "code",
   "execution_count": null,
   "id": "ddf0d384",
   "metadata": {},
   "outputs": [],
   "source": []
  }
 ],
 "metadata": {
  "kernelspec": {
   "display_name": "Python 3 (ipykernel)",
   "language": "python",
   "name": "python3"
  },
  "language_info": {
   "codemirror_mode": {
    "name": "ipython",
    "version": 3
   },
   "file_extension": ".py",
   "mimetype": "text/x-python",
   "name": "python",
   "nbconvert_exporter": "python",
   "pygments_lexer": "ipython3",
   "version": "3.10.14"
  }
 },
 "nbformat": 4,
 "nbformat_minor": 5
}
