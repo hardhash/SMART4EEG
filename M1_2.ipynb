{
 "cells": [
  {
   "cell_type": "markdown",
   "id": "a0b763b4",
   "metadata": {},
   "source": [
    "# Imports"
   ]
  },
  {
   "cell_type": "code",
   "execution_count": 1,
   "id": "a8912611",
   "metadata": {},
   "outputs": [],
   "source": [
    "import os\n",
    "import pathlib\n",
    "import numpy as np\n",
    "import pandas as pd\n",
    "import matplotlib.pyplot as plt\n",
    "from tqdm.notebook import tqdm\n",
    "import torch\n",
    "import torch.nn as nn\n",
    "import torch.nn.functional as F\n",
    "import torchvision.transforms as transforms\n",
    "import torch.optim as optim\n",
    "from torch.optim.lr_scheduler import CosineAnnealingLR\n",
    "import timm"
   ]
  },
  {
   "cell_type": "markdown",
   "id": "b51ad6d6",
   "metadata": {},
   "source": [
    "# Config"
   ]
  },
  {
   "cell_type": "code",
   "execution_count": 27,
   "id": "84c35e07",
   "metadata": {},
   "outputs": [],
   "source": [
    "class CFG:\n",
    "    seed = 888\n",
    "    debug = False\n",
    "    one_fold = False\n",
    "    base_dir = pathlib.Path(\".\")\n",
    "    path_train = base_dir / \"train.csv\"\n",
    "    spec_dir =  \"EEG_Spectrograms\"\n",
    "    transform = transforms.Resize((768, 768), antialias=False)\n",
    "    model_name = \"tf_efficientnet_b0.ns_jft_in1k\"\n",
    "    n_fold = 5\n",
    "    epochs = 10\n",
    "    batch_size = 8\n",
    "    lr = 0.0001  \n",
    "    smooth = 0"
   ]
  },
  {
   "cell_type": "markdown",
   "id": "179c064a",
   "metadata": {},
   "source": [
    "# Load data\n",
    "- We classify the spectrogram directly.\n",
    "- As a label we use the aggregated the votes per spectrogram slice"
   ]
  },
  {
   "cell_type": "code",
   "execution_count": 4,
   "id": "185bab70",
   "metadata": {},
   "outputs": [
    {
     "name": "stdout",
     "output_type": "stream",
     "text": [
      "Train shape: (100784, 15)\n"
     ]
    },
    {
     "data": {
      "text/html": [
       "<div>\n",
       "<style scoped>\n",
       "    .dataframe tbody tr th:only-of-type {\n",
       "        vertical-align: middle;\n",
       "    }\n",
       "\n",
       "    .dataframe tbody tr th {\n",
       "        vertical-align: top;\n",
       "    }\n",
       "\n",
       "    .dataframe thead th {\n",
       "        text-align: right;\n",
       "    }\n",
       "</style>\n",
       "<table border=\"1\" class=\"dataframe\">\n",
       "  <thead>\n",
       "    <tr style=\"text-align: right;\">\n",
       "      <th></th>\n",
       "      <th>eeg_id</th>\n",
       "      <th>eeg_sub_id</th>\n",
       "      <th>eeg_label_offset_seconds</th>\n",
       "      <th>spectrogram_id</th>\n",
       "      <th>spectrogram_sub_id</th>\n",
       "      <th>spectrogram_label_offset_seconds</th>\n",
       "      <th>label_id</th>\n",
       "      <th>patient_id</th>\n",
       "      <th>expert_consensus</th>\n",
       "      <th>seizure_vote</th>\n",
       "      <th>lpd_vote</th>\n",
       "      <th>gpd_vote</th>\n",
       "      <th>lrda_vote</th>\n",
       "      <th>grda_vote</th>\n",
       "      <th>other_vote</th>\n",
       "    </tr>\n",
       "  </thead>\n",
       "  <tbody>\n",
       "    <tr>\n",
       "      <th>0</th>\n",
       "      <td>2277392603</td>\n",
       "      <td>0</td>\n",
       "      <td>0.0</td>\n",
       "      <td>924234</td>\n",
       "      <td>0</td>\n",
       "      <td>0.0</td>\n",
       "      <td>1978807404</td>\n",
       "      <td>30539</td>\n",
       "      <td>GPD</td>\n",
       "      <td>0</td>\n",
       "      <td>0</td>\n",
       "      <td>5</td>\n",
       "      <td>0</td>\n",
       "      <td>1</td>\n",
       "      <td>5</td>\n",
       "    </tr>\n",
       "    <tr>\n",
       "      <th>1</th>\n",
       "      <td>2277392603</td>\n",
       "      <td>1</td>\n",
       "      <td>2.0</td>\n",
       "      <td>924234</td>\n",
       "      <td>1</td>\n",
       "      <td>2.0</td>\n",
       "      <td>134339127</td>\n",
       "      <td>30539</td>\n",
       "      <td>GPD</td>\n",
       "      <td>0</td>\n",
       "      <td>0</td>\n",
       "      <td>5</td>\n",
       "      <td>0</td>\n",
       "      <td>1</td>\n",
       "      <td>5</td>\n",
       "    </tr>\n",
       "    <tr>\n",
       "      <th>2</th>\n",
       "      <td>722738444</td>\n",
       "      <td>0</td>\n",
       "      <td>0.0</td>\n",
       "      <td>999431</td>\n",
       "      <td>0</td>\n",
       "      <td>0.0</td>\n",
       "      <td>557980729</td>\n",
       "      <td>56885</td>\n",
       "      <td>LRDA</td>\n",
       "      <td>0</td>\n",
       "      <td>1</td>\n",
       "      <td>0</td>\n",
       "      <td>14</td>\n",
       "      <td>0</td>\n",
       "      <td>1</td>\n",
       "    </tr>\n",
       "    <tr>\n",
       "      <th>3</th>\n",
       "      <td>722738444</td>\n",
       "      <td>1</td>\n",
       "      <td>2.0</td>\n",
       "      <td>999431</td>\n",
       "      <td>1</td>\n",
       "      <td>2.0</td>\n",
       "      <td>1949834128</td>\n",
       "      <td>56885</td>\n",
       "      <td>LRDA</td>\n",
       "      <td>0</td>\n",
       "      <td>1</td>\n",
       "      <td>0</td>\n",
       "      <td>14</td>\n",
       "      <td>0</td>\n",
       "      <td>1</td>\n",
       "    </tr>\n",
       "    <tr>\n",
       "      <th>4</th>\n",
       "      <td>722738444</td>\n",
       "      <td>2</td>\n",
       "      <td>4.0</td>\n",
       "      <td>999431</td>\n",
       "      <td>2</td>\n",
       "      <td>4.0</td>\n",
       "      <td>3790867376</td>\n",
       "      <td>56885</td>\n",
       "      <td>LRDA</td>\n",
       "      <td>0</td>\n",
       "      <td>1</td>\n",
       "      <td>0</td>\n",
       "      <td>14</td>\n",
       "      <td>0</td>\n",
       "      <td>1</td>\n",
       "    </tr>\n",
       "    <tr>\n",
       "      <th>...</th>\n",
       "      <td>...</td>\n",
       "      <td>...</td>\n",
       "      <td>...</td>\n",
       "      <td>...</td>\n",
       "      <td>...</td>\n",
       "      <td>...</td>\n",
       "      <td>...</td>\n",
       "      <td>...</td>\n",
       "      <td>...</td>\n",
       "      <td>...</td>\n",
       "      <td>...</td>\n",
       "      <td>...</td>\n",
       "      <td>...</td>\n",
       "      <td>...</td>\n",
       "      <td>...</td>\n",
       "    </tr>\n",
       "    <tr>\n",
       "      <th>38077</th>\n",
       "      <td>2750557840</td>\n",
       "      <td>2</td>\n",
       "      <td>10.0</td>\n",
       "      <td>2146188334</td>\n",
       "      <td>2</td>\n",
       "      <td>10.0</td>\n",
       "      <td>621803104</td>\n",
       "      <td>21884</td>\n",
       "      <td>Other</td>\n",
       "      <td>0</td>\n",
       "      <td>0</td>\n",
       "      <td>0</td>\n",
       "      <td>0</td>\n",
       "      <td>0</td>\n",
       "      <td>13</td>\n",
       "    </tr>\n",
       "    <tr>\n",
       "      <th>38078</th>\n",
       "      <td>3910994355</td>\n",
       "      <td>0</td>\n",
       "      <td>0.0</td>\n",
       "      <td>2146798838</td>\n",
       "      <td>0</td>\n",
       "      <td>0.0</td>\n",
       "      <td>4272062867</td>\n",
       "      <td>28488</td>\n",
       "      <td>LPD</td>\n",
       "      <td>0</td>\n",
       "      <td>9</td>\n",
       "      <td>0</td>\n",
       "      <td>2</td>\n",
       "      <td>0</td>\n",
       "      <td>7</td>\n",
       "    </tr>\n",
       "    <tr>\n",
       "      <th>38079</th>\n",
       "      <td>3938393892</td>\n",
       "      <td>0</td>\n",
       "      <td>0.0</td>\n",
       "      <td>2146798838</td>\n",
       "      <td>1</td>\n",
       "      <td>60.0</td>\n",
       "      <td>2587113091</td>\n",
       "      <td>28488</td>\n",
       "      <td>LPD</td>\n",
       "      <td>0</td>\n",
       "      <td>9</td>\n",
       "      <td>0</td>\n",
       "      <td>2</td>\n",
       "      <td>0</td>\n",
       "      <td>7</td>\n",
       "    </tr>\n",
       "    <tr>\n",
       "      <th>38080</th>\n",
       "      <td>3938393892</td>\n",
       "      <td>1</td>\n",
       "      <td>4.0</td>\n",
       "      <td>2146798838</td>\n",
       "      <td>2</td>\n",
       "      <td>64.0</td>\n",
       "      <td>827904671</td>\n",
       "      <td>28488</td>\n",
       "      <td>LPD</td>\n",
       "      <td>0</td>\n",
       "      <td>9</td>\n",
       "      <td>0</td>\n",
       "      <td>2</td>\n",
       "      <td>0</td>\n",
       "      <td>7</td>\n",
       "    </tr>\n",
       "    <tr>\n",
       "      <th>38081</th>\n",
       "      <td>1850739625</td>\n",
       "      <td>0</td>\n",
       "      <td>0.0</td>\n",
       "      <td>2146798838</td>\n",
       "      <td>3</td>\n",
       "      <td>162.0</td>\n",
       "      <td>2394534310</td>\n",
       "      <td>28488</td>\n",
       "      <td>LPD</td>\n",
       "      <td>0</td>\n",
       "      <td>9</td>\n",
       "      <td>0</td>\n",
       "      <td>2</td>\n",
       "      <td>0</td>\n",
       "      <td>7</td>\n",
       "    </tr>\n",
       "  </tbody>\n",
       "</table>\n",
       "<p>38082 rows × 15 columns</p>\n",
       "</div>"
      ],
      "text/plain": [
       "           eeg_id  eeg_sub_id  eeg_label_offset_seconds  spectrogram_id  \\\n",
       "0      2277392603           0                       0.0          924234   \n",
       "1      2277392603           1                       2.0          924234   \n",
       "2       722738444           0                       0.0          999431   \n",
       "3       722738444           1                       2.0          999431   \n",
       "4       722738444           2                       4.0          999431   \n",
       "...           ...         ...                       ...             ...   \n",
       "38077  2750557840           2                      10.0      2146188334   \n",
       "38078  3910994355           0                       0.0      2146798838   \n",
       "38079  3938393892           0                       0.0      2146798838   \n",
       "38080  3938393892           1                       4.0      2146798838   \n",
       "38081  1850739625           0                       0.0      2146798838   \n",
       "\n",
       "       spectrogram_sub_id  spectrogram_label_offset_seconds    label_id  \\\n",
       "0                       0                               0.0  1978807404   \n",
       "1                       1                               2.0   134339127   \n",
       "2                       0                               0.0   557980729   \n",
       "3                       1                               2.0  1949834128   \n",
       "4                       2                               4.0  3790867376   \n",
       "...                   ...                               ...         ...   \n",
       "38077                   2                              10.0   621803104   \n",
       "38078                   0                               0.0  4272062867   \n",
       "38079                   1                              60.0  2587113091   \n",
       "38080                   2                              64.0   827904671   \n",
       "38081                   3                             162.0  2394534310   \n",
       "\n",
       "       patient_id expert_consensus  seizure_vote  lpd_vote  gpd_vote  \\\n",
       "0           30539              GPD             0         0         5   \n",
       "1           30539              GPD             0         0         5   \n",
       "2           56885             LRDA             0         1         0   \n",
       "3           56885             LRDA             0         1         0   \n",
       "4           56885             LRDA             0         1         0   \n",
       "...           ...              ...           ...       ...       ...   \n",
       "38077       21884            Other             0         0         0   \n",
       "38078       28488              LPD             0         9         0   \n",
       "38079       28488              LPD             0         9         0   \n",
       "38080       28488              LPD             0         9         0   \n",
       "38081       28488              LPD             0         9         0   \n",
       "\n",
       "       lrda_vote  grda_vote  other_vote  \n",
       "0              0          1           5  \n",
       "1              0          1           5  \n",
       "2             14          0           1  \n",
       "3             14          0           1  \n",
       "4             14          0           1  \n",
       "...          ...        ...         ...  \n",
       "38077          0          0          13  \n",
       "38078          2          0           7  \n",
       "38079          2          0           7  \n",
       "38080          2          0           7  \n",
       "38081          2          0           7  \n",
       "\n",
       "[38082 rows x 15 columns]"
      ]
     },
     "execution_count": 4,
     "metadata": {},
     "output_type": "execute_result"
    }
   ],
   "source": [
    "train_df = pd.read_csv(\"updated_train.csv\")\n",
    "print('Train shape:', train_df.shape )\n",
    "\n",
    "train_df['total_evaluators'] = train_df[['seizure_vote', 'lpd_vote', 'gpd_vote', 'lrda_vote', 'grda_vote', 'other_vote']].sum(axis=1)\n",
    "train_df = train_df[train_df.total_evaluators>=10].reset_index(drop=True)\n",
    "del train_df['total_evaluators']\n",
    "train_df"
   ]
  },
  {
   "cell_type": "code",
   "execution_count": 5,
   "id": "3cca9ab4",
   "metadata": {},
   "outputs": [
    {
     "data": {
      "text/plain": [
       "['seizure_vote',\n",
       " 'lpd_vote',\n",
       " 'gpd_vote',\n",
       " 'lrda_vote',\n",
       " 'grda_vote',\n",
       " 'other_vote']"
      ]
     },
     "execution_count": 5,
     "metadata": {},
     "output_type": "execute_result"
    }
   ],
   "source": [
    "label_columns = train_df.filter(like=\"_vote\").columns.to_list()\n",
    "label_columns"
   ]
  },
  {
   "cell_type": "code",
   "execution_count": 7,
   "id": "2fee377a",
   "metadata": {},
   "outputs": [
    {
     "name": "stdout",
     "output_type": "stream",
     "text": [
      "There are 10428 spectrogram parquets\n"
     ]
    }
   ],
   "source": [
    "PATH = 'E:/HMS2024/train_spec_for_paper/'\n",
    "files = os.listdir(PATH)\n",
    "print(f'There are {len(files)} spectrogram parquets')\n",
    "import pickle\n",
    "def picklesave(obj,file):\n",
    "    ff = open(file,'wb')\n",
    "    pickle.dump(obj,ff)\n",
    "    ff.close()\n",
    "\n",
    "def pickleload(file):\n",
    "    ff = open(file,'rb')\n",
    "    obj = pickle.load(ff)\n",
    "    ff.close()\n",
    "    return obj\n",
    "\n",
    "\n",
    "spectrograms = pickleload('specs.pkl')"
   ]
  },
  {
   "cell_type": "code",
   "execution_count": 9,
   "id": "192d78cf",
   "metadata": {},
   "outputs": [
    {
     "name": "stdout",
     "output_type": "stream",
     "text": [
      "Train non-overlapp eeg_id shape: (5599, 12)\n"
     ]
    },
    {
     "data": {
      "text/html": [
       "<div>\n",
       "<style scoped>\n",
       "    .dataframe tbody tr th:only-of-type {\n",
       "        vertical-align: middle;\n",
       "    }\n",
       "\n",
       "    .dataframe tbody tr th {\n",
       "        vertical-align: top;\n",
       "    }\n",
       "\n",
       "    .dataframe thead th {\n",
       "        text-align: right;\n",
       "    }\n",
       "</style>\n",
       "<table border=\"1\" class=\"dataframe\">\n",
       "  <thead>\n",
       "    <tr style=\"text-align: right;\">\n",
       "      <th></th>\n",
       "      <th>eeg_id</th>\n",
       "      <th>spec_id</th>\n",
       "      <th>min</th>\n",
       "      <th>max</th>\n",
       "      <th>patient_id</th>\n",
       "      <th>seizure_vote</th>\n",
       "      <th>lpd_vote</th>\n",
       "      <th>gpd_vote</th>\n",
       "      <th>lrda_vote</th>\n",
       "      <th>grda_vote</th>\n",
       "      <th>other_vote</th>\n",
       "      <th>target</th>\n",
       "      <th>path</th>\n",
       "    </tr>\n",
       "  </thead>\n",
       "  <tbody>\n",
       "    <tr>\n",
       "      <th>0</th>\n",
       "      <td>568657</td>\n",
       "      <td>789577333</td>\n",
       "      <td>0.0</td>\n",
       "      <td>16.0</td>\n",
       "      <td>20654</td>\n",
       "      <td>0.000000</td>\n",
       "      <td>0.000000</td>\n",
       "      <td>0.250000</td>\n",
       "      <td>0.000000</td>\n",
       "      <td>0.166667</td>\n",
       "      <td>0.583333</td>\n",
       "      <td>Other</td>\n",
       "      <td>EEG_Spectrograms/568657.npy</td>\n",
       "    </tr>\n",
       "    <tr>\n",
       "      <th>1</th>\n",
       "      <td>582999</td>\n",
       "      <td>1552638400</td>\n",
       "      <td>0.0</td>\n",
       "      <td>38.0</td>\n",
       "      <td>20230</td>\n",
       "      <td>0.000000</td>\n",
       "      <td>0.857143</td>\n",
       "      <td>0.000000</td>\n",
       "      <td>0.071429</td>\n",
       "      <td>0.000000</td>\n",
       "      <td>0.071429</td>\n",
       "      <td>LPD</td>\n",
       "      <td>EEG_Spectrograms/582999.npy</td>\n",
       "    </tr>\n",
       "    <tr>\n",
       "      <th>2</th>\n",
       "      <td>1895581</td>\n",
       "      <td>128369999</td>\n",
       "      <td>1138.0</td>\n",
       "      <td>1138.0</td>\n",
       "      <td>47999</td>\n",
       "      <td>0.076923</td>\n",
       "      <td>0.000000</td>\n",
       "      <td>0.000000</td>\n",
       "      <td>0.000000</td>\n",
       "      <td>0.076923</td>\n",
       "      <td>0.846154</td>\n",
       "      <td>Other</td>\n",
       "      <td>EEG_Spectrograms/1895581.npy</td>\n",
       "    </tr>\n",
       "    <tr>\n",
       "      <th>3</th>\n",
       "      <td>2482631</td>\n",
       "      <td>978166025</td>\n",
       "      <td>1902.0</td>\n",
       "      <td>1944.0</td>\n",
       "      <td>20606</td>\n",
       "      <td>0.000000</td>\n",
       "      <td>0.000000</td>\n",
       "      <td>0.133333</td>\n",
       "      <td>0.066667</td>\n",
       "      <td>0.133333</td>\n",
       "      <td>0.666667</td>\n",
       "      <td>Other</td>\n",
       "      <td>EEG_Spectrograms/2482631.npy</td>\n",
       "    </tr>\n",
       "    <tr>\n",
       "      <th>4</th>\n",
       "      <td>2521897</td>\n",
       "      <td>673742515</td>\n",
       "      <td>0.0</td>\n",
       "      <td>4.0</td>\n",
       "      <td>62117</td>\n",
       "      <td>0.000000</td>\n",
       "      <td>0.000000</td>\n",
       "      <td>0.083333</td>\n",
       "      <td>0.083333</td>\n",
       "      <td>0.333333</td>\n",
       "      <td>0.500000</td>\n",
       "      <td>Other</td>\n",
       "      <td>EEG_Spectrograms/2521897.npy</td>\n",
       "    </tr>\n",
       "  </tbody>\n",
       "</table>\n",
       "</div>"
      ],
      "text/plain": [
       "    eeg_id     spec_id     min     max  patient_id  seizure_vote  lpd_vote  \\\n",
       "0   568657   789577333     0.0    16.0       20654      0.000000  0.000000   \n",
       "1   582999  1552638400     0.0    38.0       20230      0.000000  0.857143   \n",
       "2  1895581   128369999  1138.0  1138.0       47999      0.076923  0.000000   \n",
       "3  2482631   978166025  1902.0  1944.0       20606      0.000000  0.000000   \n",
       "4  2521897   673742515     0.0     4.0       62117      0.000000  0.000000   \n",
       "\n",
       "   gpd_vote  lrda_vote  grda_vote  other_vote target  \\\n",
       "0  0.250000   0.000000   0.166667    0.583333  Other   \n",
       "1  0.000000   0.071429   0.000000    0.071429    LPD   \n",
       "2  0.000000   0.000000   0.076923    0.846154  Other   \n",
       "3  0.133333   0.066667   0.133333    0.666667  Other   \n",
       "4  0.083333   0.083333   0.333333    0.500000  Other   \n",
       "\n",
       "                           path  \n",
       "0   EEG_Spectrograms/568657.npy  \n",
       "1   EEG_Spectrograms/582999.npy  \n",
       "2  EEG_Spectrograms/1895581.npy  \n",
       "3  EEG_Spectrograms/2482631.npy  \n",
       "4  EEG_Spectrograms/2521897.npy  "
      ]
     },
     "execution_count": 9,
     "metadata": {},
     "output_type": "execute_result"
    }
   ],
   "source": [
    "TARGETS = train_df.columns[-6:]\n",
    "data = train_df.groupby('eeg_id')[['spectrogram_id','spectrogram_label_offset_seconds']].agg(\n",
    "    {'spectrogram_id':'first','spectrogram_label_offset_seconds':'min'})\n",
    "data.columns = ['spec_id','min']\n",
    "\n",
    "tmp = train_df.groupby('eeg_id')[['spectrogram_id','spectrogram_label_offset_seconds']].agg(\n",
    "    {'spectrogram_label_offset_seconds':'max'})\n",
    "data['max'] = tmp\n",
    "\n",
    "tmp = train_df.groupby('eeg_id')[['patient_id']].agg('first')\n",
    "data['patient_id'] = tmp\n",
    "\n",
    "tmp = train_df.groupby('eeg_id')[TARGETS].agg('sum')\n",
    "for t in TARGETS:\n",
    "    data[t] = tmp[t].values\n",
    "    \n",
    "y_data = data[TARGETS].values\n",
    "y_data = y_data / y_data.sum(axis=1,keepdims=True)\n",
    "data[TARGETS] = y_data\n",
    "\n",
    "tmp = train_df.groupby('eeg_id')[['expert_consensus']].agg('first')\n",
    "data['target'] = tmp\n",
    "\n",
    "data = data.reset_index()\n",
    "print('Train non-overlapp eeg_id shape:', data.shape )\n",
    "data[\"path\"] = data.eeg_id.map(lambda x: f\"EEG_Spectrograms/{x}.npy\")\n",
    "\n",
    "data.head()"
   ]
  },
  {
   "cell_type": "markdown",
   "id": "2257c186",
   "metadata": {},
   "source": [
    "# Data Handling\n",
    "- Spectrogram is loaded, which contains spectrograms in 4 different regions.\n",
    "- All together they are clipped, log-transformed and the standardized.\n",
    "- Finally it is resized as an image.\n",
    "- Note, since the spectrograms have sometimes very different lenghts this creates a certain distortion."
   ]
  },
  {
   "cell_type": "code",
   "execution_count": 12,
   "id": "9299acd2",
   "metadata": {},
   "outputs": [],
   "source": [
    "from torch.utils.data import Dataset, DataLoader\n",
    "def preprocess(x):\n",
    "    m, s = x.mean(), x.std()\n",
    "    x = (x - m) / (s + 1e-6)\n",
    "    return x\n",
    "\n",
    "def preprocess2(x):\n",
    "    x = np.clip(x, np.exp(-6), np.exp(10))\n",
    "    x = np.log(x)\n",
    "    m, s = x.mean(), x.std()\n",
    "    x = (x - m) / (s + 1e-6)\n",
    "    return x"
   ]
  },
  {
   "cell_type": "code",
   "execution_count": 13,
   "id": "f8cdfa2b",
   "metadata": {},
   "outputs": [],
   "source": [
    "class SpecDataset(Dataset):\n",
    "    \n",
    "    def __init__(self, df, transform=CFG.transform, mode='train'):\n",
    "        self.df = df\n",
    "        self.transform = transform\n",
    "        self.mode = mode\n",
    "    \n",
    "    def __len__(self):\n",
    "        return len(self.df)\n",
    "    \n",
    "    def __getitem__(self, index):\n",
    "        row = self.df.iloc[index]\n",
    "        # input\n",
    "        x = np.load(row.path)\n",
    "        x = [x[:,:,i+0:i+1] for i in range(6)]\n",
    "        x1 = np.concatenate(x,axis=0)[:,:,0]\n",
    "\n",
    "        x1 = preprocess(x1)\n",
    "        x = spectrograms[row.spec_id]\n",
    "        r = int( (row['min'] + row['max'])//4 )\n",
    "        x = x[:,r:r+300]\n",
    "\n",
    "        x2 = preprocess2(x)\n",
    "        x2 = torch.Tensor(x2[None, :])\n",
    "        x2 = np.array(CFG.transform(x2))[0]\n",
    "\n",
    "        x = np.concatenate([x1,x2])\n",
    "\n",
    "        \n",
    "        x = torch.Tensor(x[None, :])\n",
    "        if self.transform:\n",
    "            x = self.transform(x)\n",
    "        # output\n",
    "        y = np.array(row.loc[label_columns].values, 'float32')\n",
    "        \n",
    "        if CFG.smooth and self.mode!='valid':\n",
    "            factor = 0.05\n",
    "            y = y * (1 - factor)\n",
    "            y = y + (factor / 6)\n",
    "        \n",
    "        y = torch.Tensor(y)\n",
    "        return x, y"
   ]
  },
  {
   "cell_type": "markdown",
   "id": "4946bc4e",
   "metadata": {},
   "source": [
    "# Model"
   ]
  },
  {
   "cell_type": "code",
   "execution_count": 19,
   "id": "ece9b63b",
   "metadata": {},
   "outputs": [
    {
     "data": {
      "text/plain": [
       "tensor([[-5.0011e-01,  1.8929e-01, -1.6941e+00,  2.0233e-01, -1.8864e-01,\n",
       "          5.6967e-03],\n",
       "        [-5.9857e-01,  7.4707e-01, -1.6459e+00,  2.5856e-01,  1.9623e-02,\n",
       "          3.5523e-02],\n",
       "        [-4.9668e+00,  2.0073e+00, -2.0812e+00,  1.1825e+00, -2.7803e-01,\n",
       "          8.9545e-01],\n",
       "        [-1.4151e+00,  9.4726e-01, -1.9046e+00,  4.0096e-01, -4.2966e-02,\n",
       "          1.8834e-01],\n",
       "        [ 7.2708e-01,  4.5894e-01, -1.0595e+00, -3.7439e-01, -9.5965e-02,\n",
       "         -4.6204e-01],\n",
       "        [-3.4622e+00,  1.5494e+00, -2.4683e+00,  9.5744e-01,  1.0669e-01,\n",
       "          1.7129e-01],\n",
       "        [-1.3635e+00,  7.5871e-01, -1.8120e+00,  1.6089e-01,  4.9499e-02,\n",
       "         -1.3671e-01],\n",
       "        [-1.3698e+01,  5.4834e+00, -2.8801e+00,  2.4018e+00,  1.4196e+00,\n",
       "         -1.9433e+00]], device='cuda:0', grad_fn=<AddmmBackward0>)"
      ]
     },
     "execution_count": 19,
     "metadata": {},
     "output_type": "execute_result"
    }
   ],
   "source": [
    "DEVICE = \"cuda\" if torch.cuda.is_available() else \"cpu\"\n",
    "model = timm.create_model(model_name=CFG.model_name, pretrained=False, num_classes=6, in_chans=1)\n",
    "model.to(DEVICE)"
   ]
  },
  {
   "cell_type": "code",
   "execution_count": 23,
   "id": "ce613ac7",
   "metadata": {},
   "outputs": [],
   "source": [
    "def KLDivLoss(logit, target):\n",
    "    log_prob = F.log_softmax(logit, dim=1)\n",
    "    return F.kl_div(log_prob, target, reduction=\"batchmean\")\n",
    "\n",
    "def KL_loss(p,q):\n",
    "    epsilon=10**(-15)\n",
    "    p=torch.clip(p,epsilon,1-epsilon)\n",
    "    q = nn.functional.log_softmax(q,dim=1)\n",
    "    return torch.mean(torch.sum(p*(torch.log(p)-q),dim=1))\n",
    "\n",
    "def compute_loss(model, data_loader):\n",
    "    model.eval()\n",
    "    l_loss = []\n",
    "    with torch.no_grad():\n",
    "        for x, y in data_loader:\n",
    "            y_pred = model(x.to(DEVICE))\n",
    "            loss = KLDivLoss(y_pred, y.to(DEVICE))\n",
    "            l_loss.append(loss.item())\n",
    "    return np.mean(l_loss) "
   ]
  },
  {
   "cell_type": "code",
   "execution_count": 25,
   "id": "fd81e92f",
   "metadata": {},
   "outputs": [],
   "source": [
    "from sklearn.model_selection import KFold\n",
    "if CFG.debug:\n",
    "    data = data.iloc[:400]"
   ]
  },
  {
   "cell_type": "code",
   "execution_count": 28,
   "id": "9e2aa01f",
   "metadata": {
    "scrolled": false
   },
   "outputs": [
    {
     "name": "stdout",
     "output_type": "stream",
     "text": [
      "Fold 0:\n"
     ]
    },
    {
     "data": {
      "application/vnd.jupyter.widget-view+json": {
       "model_id": "c99b2aef3140468f8e758e090924d1d3",
       "version_major": 2,
       "version_minor": 0
      },
      "text/plain": [
       "  0%|          | 0/10 [00:00<?, ?it/s]"
      ]
     },
     "metadata": {},
     "output_type": "display_data"
    },
    {
     "data": {
      "application/vnd.jupyter.widget-view+json": {
       "model_id": "159ac0852f894c65877f2e9aa32a42e7",
       "version_major": 2,
       "version_minor": 0
      },
      "text/plain": [
       "  0%|          | 0/559 [00:00<?, ?it/s]"
      ]
     },
     "metadata": {},
     "output_type": "display_data"
    },
    {
     "name": "stdout",
     "output_type": "stream",
     "text": [
      "Epoch 0\n",
      "Train Loss:   0.292613, Valid Loss:   0.250242\n",
      "Loss improves from        inf to   0.250242\n"
     ]
    },
    {
     "data": {
      "application/vnd.jupyter.widget-view+json": {
       "model_id": "856b067659804d8f9e73954708e157ac",
       "version_major": 2,
       "version_minor": 0
      },
      "text/plain": [
       "  0%|          | 0/559 [00:00<?, ?it/s]"
      ]
     },
     "metadata": {},
     "output_type": "display_data"
    },
    {
     "name": "stdout",
     "output_type": "stream",
     "text": [
      "Epoch 1\n",
      "Train Loss:   0.247733, Valid Loss:   0.242987\n",
      "Loss improves from   0.250242 to   0.242987\n"
     ]
    },
    {
     "data": {
      "application/vnd.jupyter.widget-view+json": {
       "model_id": "171c0096527848cdb6091aba7cf73a2a",
       "version_major": 2,
       "version_minor": 0
      },
      "text/plain": [
       "  0%|          | 0/559 [00:00<?, ?it/s]"
      ]
     },
     "metadata": {},
     "output_type": "display_data"
    },
    {
     "name": "stdout",
     "output_type": "stream",
     "text": [
      "Epoch 2\n",
      "Train Loss:   0.224723, Valid Loss:   0.237057\n",
      "Loss improves from   0.242987 to   0.237057\n"
     ]
    },
    {
     "data": {
      "application/vnd.jupyter.widget-view+json": {
       "model_id": "bf0966adab484cea862a8525ba439d77",
       "version_major": 2,
       "version_minor": 0
      },
      "text/plain": [
       "  0%|          | 0/559 [00:00<?, ?it/s]"
      ]
     },
     "metadata": {},
     "output_type": "display_data"
    },
    {
     "name": "stdout",
     "output_type": "stream",
     "text": [
      "Epoch 3\n",
      "Train Loss:   0.200110, Valid Loss:   0.236217\n",
      "Loss improves from   0.237057 to   0.236217\n"
     ]
    },
    {
     "data": {
      "application/vnd.jupyter.widget-view+json": {
       "model_id": "13c59595f3724978bc40ce8afe4d249f",
       "version_major": 2,
       "version_minor": 0
      },
      "text/plain": [
       "  0%|          | 0/559 [00:00<?, ?it/s]"
      ]
     },
     "metadata": {},
     "output_type": "display_data"
    },
    {
     "name": "stdout",
     "output_type": "stream",
     "text": [
      "Epoch 4\n",
      "Train Loss:   0.182524, Valid Loss:   0.231823\n",
      "Loss improves from   0.236217 to   0.231823\n"
     ]
    },
    {
     "data": {
      "application/vnd.jupyter.widget-view+json": {
       "model_id": "4658327060624554bd85d7dc925a2d2f",
       "version_major": 2,
       "version_minor": 0
      },
      "text/plain": [
       "  0%|          | 0/559 [00:00<?, ?it/s]"
      ]
     },
     "metadata": {},
     "output_type": "display_data"
    },
    {
     "name": "stdout",
     "output_type": "stream",
     "text": [
      "Epoch 5\n",
      "Train Loss:   0.163264, Valid Loss:   0.242495\n"
     ]
    },
    {
     "data": {
      "application/vnd.jupyter.widget-view+json": {
       "model_id": "848e4d1a1071456a8c6fcdeb54868c2b",
       "version_major": 2,
       "version_minor": 0
      },
      "text/plain": [
       "  0%|          | 0/559 [00:00<?, ?it/s]"
      ]
     },
     "metadata": {},
     "output_type": "display_data"
    },
    {
     "name": "stdout",
     "output_type": "stream",
     "text": [
      "Epoch 6\n",
      "Train Loss:   0.143736, Valid Loss:   0.247022\n"
     ]
    },
    {
     "data": {
      "application/vnd.jupyter.widget-view+json": {
       "model_id": "ac81be3be3db4c64b0bce549a6f47bb4",
       "version_major": 2,
       "version_minor": 0
      },
      "text/plain": [
       "  0%|          | 0/559 [00:00<?, ?it/s]"
      ]
     },
     "metadata": {},
     "output_type": "display_data"
    },
    {
     "name": "stdout",
     "output_type": "stream",
     "text": [
      "Epoch 7\n",
      "Train Loss:   0.125779, Valid Loss:    0.24678\n"
     ]
    },
    {
     "data": {
      "application/vnd.jupyter.widget-view+json": {
       "model_id": "6b395b64ebfd4fdfb5d628e968ba191a",
       "version_major": 2,
       "version_minor": 0
      },
      "text/plain": [
       "  0%|          | 0/559 [00:00<?, ?it/s]"
      ]
     },
     "metadata": {},
     "output_type": "display_data"
    },
    {
     "name": "stdout",
     "output_type": "stream",
     "text": [
      "Epoch 8\n",
      "Train Loss:   0.111335, Valid Loss:   0.246757\n"
     ]
    },
    {
     "data": {
      "application/vnd.jupyter.widget-view+json": {
       "model_id": "6e82f82b61ac4a29a9f1875d8bd48165",
       "version_major": 2,
       "version_minor": 0
      },
      "text/plain": [
       "  0%|          | 0/559 [00:00<?, ?it/s]"
      ]
     },
     "metadata": {},
     "output_type": "display_data"
    },
    {
     "name": "stdout",
     "output_type": "stream",
     "text": [
      "Epoch 9\n",
      "Train Loss:   0.099962, Valid Loss:   0.261418\n",
      "\n",
      "Best loss Model training with 0.23182260074785777\n",
      "\n"
     ]
    },
    {
     "data": {
      "image/png": "[encoded data removed]",
      "text/plain": [
       "<Figure size 1400x600 with 2 Axes>"
      ]
     },
     "metadata": {},
     "output_type": "display_data"
    },
    {
     "name": "stdout",
     "output_type": "stream",
     "text": [
      "Fold 1:\n"
     ]
    },
    {
     "data": {
      "application/vnd.jupyter.widget-view+json": {
       "model_id": "10711be2277b419399870a840f6695e4",
       "version_major": 2,
       "version_minor": 0
      },
      "text/plain": [
       "  0%|          | 0/10 [00:00<?, ?it/s]"
      ]
     },
     "metadata": {},
     "output_type": "display_data"
    },
    {
     "data": {
      "application/vnd.jupyter.widget-view+json": {
       "model_id": "03123e46a91744b8b4d53c4947e7fc47",
       "version_major": 2,
       "version_minor": 0
      },
      "text/plain": [
       "  0%|          | 0/559 [00:00<?, ?it/s]"
      ]
     },
     "metadata": {},
     "output_type": "display_data"
    },
    {
     "name": "stdout",
     "output_type": "stream",
     "text": [
      "Epoch 0\n",
      "Train Loss:   0.286703, Valid Loss:   0.261499\n",
      "Loss improves from        inf to   0.261499\n"
     ]
    },
    {
     "data": {
      "application/vnd.jupyter.widget-view+json": {
       "model_id": "56f04998aac4458e9fa07c7bb88575da",
       "version_major": 2,
       "version_minor": 0
      },
      "text/plain": [
       "  0%|          | 0/559 [00:00<?, ?it/s]"
      ]
     },
     "metadata": {},
     "output_type": "display_data"
    },
    {
     "name": "stdout",
     "output_type": "stream",
     "text": [
      "Epoch 1\n",
      "Train Loss:   0.239733, Valid Loss:   0.249995\n",
      "Loss improves from   0.261499 to   0.249995\n"
     ]
    },
    {
     "data": {
      "application/vnd.jupyter.widget-view+json": {
       "model_id": "265259ba856c4fa79809d77dc4534006",
       "version_major": 2,
       "version_minor": 0
      },
      "text/plain": [
       "  0%|          | 0/559 [00:00<?, ?it/s]"
      ]
     },
     "metadata": {},
     "output_type": "display_data"
    },
    {
     "name": "stdout",
     "output_type": "stream",
     "text": [
      "Epoch 2\n",
      "Train Loss:   0.215744, Valid Loss:   0.248454\n",
      "Loss improves from   0.249995 to   0.248454\n"
     ]
    },
    {
     "data": {
      "application/vnd.jupyter.widget-view+json": {
       "model_id": "cd317f4349904ca3b19a098a48f9ff47",
       "version_major": 2,
       "version_minor": 0
      },
      "text/plain": [
       "  0%|          | 0/559 [00:00<?, ?it/s]"
      ]
     },
     "metadata": {},
     "output_type": "display_data"
    },
    {
     "name": "stdout",
     "output_type": "stream",
     "text": [
      "Epoch 3\n",
      "Train Loss:   0.196128, Valid Loss:   0.251636\n"
     ]
    },
    {
     "data": {
      "application/vnd.jupyter.widget-view+json": {
       "model_id": "e78967246ef74d52b9959e7a5b229de7",
       "version_major": 2,
       "version_minor": 0
      },
      "text/plain": [
       "  0%|          | 0/559 [00:00<?, ?it/s]"
      ]
     },
     "metadata": {},
     "output_type": "display_data"
    },
    {
     "name": "stdout",
     "output_type": "stream",
     "text": [
      "Epoch 4\n",
      "Train Loss:   0.170849, Valid Loss:   0.255866\n"
     ]
    },
    {
     "data": {
      "application/vnd.jupyter.widget-view+json": {
       "model_id": "8d0f6ca16066465b8bf851faa4cc0a98",
       "version_major": 2,
       "version_minor": 0
      },
      "text/plain": [
       "  0%|          | 0/559 [00:00<?, ?it/s]"
      ]
     },
     "metadata": {},
     "output_type": "display_data"
    },
    {
     "name": "stdout",
     "output_type": "stream",
     "text": [
      "Epoch 5\n",
      "Train Loss:   0.149503, Valid Loss:   0.259039\n"
     ]
    },
    {
     "data": {
      "application/vnd.jupyter.widget-view+json": {
       "model_id": "68834d6a89bb41418ea9252ba3d292bf",
       "version_major": 2,
       "version_minor": 0
      },
      "text/plain": [
       "  0%|          | 0/559 [00:00<?, ?it/s]"
      ]
     },
     "metadata": {},
     "output_type": "display_data"
    },
    {
     "name": "stdout",
     "output_type": "stream",
     "text": [
      "Epoch 6\n",
      "Train Loss:   0.130574, Valid Loss:   0.254756\n"
     ]
    },
    {
     "data": {
      "application/vnd.jupyter.widget-view+json": {
       "model_id": "65d7c37f7c8d4b27b6ad9ff9b78ebb89",
       "version_major": 2,
       "version_minor": 0
      },
      "text/plain": [
       "  0%|          | 0/559 [00:00<?, ?it/s]"
      ]
     },
     "metadata": {},
     "output_type": "display_data"
    },
    {
     "name": "stdout",
     "output_type": "stream",
     "text": [
      "Epoch 7\n",
      "Train Loss:   0.114426, Valid Loss:   0.253721\n"
     ]
    },
    {
     "data": {
      "application/vnd.jupyter.widget-view+json": {
       "model_id": "dc5ffdb94f0d4838a2ad1b0f0240b3ce",
       "version_major": 2,
       "version_minor": 0
      },
      "text/plain": [
       "  0%|          | 0/559 [00:00<?, ?it/s]"
      ]
     },
     "metadata": {},
     "output_type": "display_data"
    },
    {
     "name": "stdout",
     "output_type": "stream",
     "text": [
      "Epoch 8\n",
      "Train Loss:   0.100748, Valid Loss:   0.262105\n"
     ]
    },
    {
     "data": {
      "application/vnd.jupyter.widget-view+json": {
       "model_id": "f3454779168841bb8d418e7e0d4dd9cb",
       "version_major": 2,
       "version_minor": 0
      },
      "text/plain": [
       "  0%|          | 0/559 [00:00<?, ?it/s]"
      ]
     },
     "metadata": {},
     "output_type": "display_data"
    },
    {
     "name": "stdout",
     "output_type": "stream",
     "text": [
      "Epoch 9\n",
      "Train Loss:   0.088319, Valid Loss:   0.265794\n",
      "\n",
      "Best loss Model training with 0.24845395780035429\n",
      "\n"
     ]
    },
    {
     "data": {
      "image/png": "[encoded data removed]",
      "text/plain": [
       "<Figure size 1400x600 with 2 Axes>"
      ]
     },
     "metadata": {},
     "output_type": "display_data"
    },
    {
     "name": "stdout",
     "output_type": "stream",
     "text": [
      "Fold 2:\n"
     ]
    },
    {
     "data": {
      "application/vnd.jupyter.widget-view+json": {
       "model_id": "5e44742e79cd498fbbda3e7a6a53677a",
       "version_major": 2,
       "version_minor": 0
      },
      "text/plain": [
       "  0%|          | 0/10 [00:00<?, ?it/s]"
      ]
     },
     "metadata": {},
     "output_type": "display_data"
    },
    {
     "data": {
      "application/vnd.jupyter.widget-view+json": {
       "model_id": "5612f1d089e148c886a569911cecfdf7",
       "version_major": 2,
       "version_minor": 0
      },
      "text/plain": [
       "  0%|          | 0/559 [00:00<?, ?it/s]"
      ]
     },
     "metadata": {},
     "output_type": "display_data"
    },
    {
     "name": "stdout",
     "output_type": "stream",
     "text": [
      "Epoch 0\n",
      "Train Loss:   0.278994, Valid Loss:   0.242282\n",
      "Loss improves from        inf to   0.242282\n"
     ]
    },
    {
     "data": {
      "application/vnd.jupyter.widget-view+json": {
       "model_id": "f67ec2de4686471084ccbef4e86ebe05",
       "version_major": 2,
       "version_minor": 0
      },
      "text/plain": [
       "  0%|          | 0/559 [00:00<?, ?it/s]"
      ]
     },
     "metadata": {},
     "output_type": "display_data"
    },
    {
     "name": "stdout",
     "output_type": "stream",
     "text": [
      "Epoch 1\n",
      "Train Loss:   0.233301, Valid Loss:   0.227291\n",
      "Loss improves from   0.242282 to   0.227291\n"
     ]
    },
    {
     "data": {
      "application/vnd.jupyter.widget-view+json": {
       "model_id": "efa64dce4c9c428481cf8e6c919d8312",
       "version_major": 2,
       "version_minor": 0
      },
      "text/plain": [
       "  0%|          | 0/559 [00:00<?, ?it/s]"
      ]
     },
     "metadata": {},
     "output_type": "display_data"
    },
    {
     "name": "stdout",
     "output_type": "stream",
     "text": [
      "Epoch 2\n",
      "Train Loss:   0.212146, Valid Loss:   0.228871\n"
     ]
    },
    {
     "data": {
      "application/vnd.jupyter.widget-view+json": {
       "model_id": "cdb61c6f03074126bcec502e9bc7bb87",
       "version_major": 2,
       "version_minor": 0
      },
      "text/plain": [
       "  0%|          | 0/559 [00:00<?, ?it/s]"
      ]
     },
     "metadata": {},
     "output_type": "display_data"
    },
    {
     "name": "stdout",
     "output_type": "stream",
     "text": [
      "Epoch 3\n",
      "Train Loss:   0.192674, Valid Loss:   0.221695\n",
      "Loss improves from   0.227291 to   0.221695\n"
     ]
    },
    {
     "data": {
      "application/vnd.jupyter.widget-view+json": {
       "model_id": "76d1c117ae574e6491ecb9f35e65921a",
       "version_major": 2,
       "version_minor": 0
      },
      "text/plain": [
       "  0%|          | 0/559 [00:00<?, ?it/s]"
      ]
     },
     "metadata": {},
     "output_type": "display_data"
    },
    {
     "name": "stdout",
     "output_type": "stream",
     "text": [
      "Epoch 4\n",
      "Train Loss:   0.173961, Valid Loss:   0.224093\n"
     ]
    },
    {
     "data": {
      "application/vnd.jupyter.widget-view+json": {
       "model_id": "5de1deaabb2e4e65ba0a6532fee6e64b",
       "version_major": 2,
       "version_minor": 0
      },
      "text/plain": [
       "  0%|          | 0/559 [00:00<?, ?it/s]"
      ]
     },
     "metadata": {},
     "output_type": "display_data"
    },
    {
     "name": "stdout",
     "output_type": "stream",
     "text": [
      "Epoch 5\n",
      "Train Loss:   0.153747, Valid Loss:    0.22249\n"
     ]
    },
    {
     "data": {
      "application/vnd.jupyter.widget-view+json": {
       "model_id": "ffcb2df1f5d74b749237a2932e3d6c33",
       "version_major": 2,
       "version_minor": 0
      },
      "text/plain": [
       "  0%|          | 0/559 [00:00<?, ?it/s]"
      ]
     },
     "metadata": {},
     "output_type": "display_data"
    },
    {
     "name": "stdout",
     "output_type": "stream",
     "text": [
      "Epoch 6\n",
      "Train Loss:   0.135322, Valid Loss:   0.232623\n"
     ]
    },
    {
     "data": {
      "application/vnd.jupyter.widget-view+json": {
       "model_id": "90dfa913f93549448dec4bb75d95399a",
       "version_major": 2,
       "version_minor": 0
      },
      "text/plain": [
       "  0%|          | 0/559 [00:00<?, ?it/s]"
      ]
     },
     "metadata": {},
     "output_type": "display_data"
    },
    {
     "name": "stdout",
     "output_type": "stream",
     "text": [
      "Epoch 7\n",
      "Train Loss:   0.118099, Valid Loss:   0.234957\n"
     ]
    },
    {
     "data": {
      "application/vnd.jupyter.widget-view+json": {
       "model_id": "2fd742582f75424899d33b968a91e127",
       "version_major": 2,
       "version_minor": 0
      },
      "text/plain": [
       "  0%|          | 0/559 [00:00<?, ?it/s]"
      ]
     },
     "metadata": {},
     "output_type": "display_data"
    },
    {
     "name": "stdout",
     "output_type": "stream",
     "text": [
      "Epoch 8\n",
      "Train Loss:   0.105311, Valid Loss:   0.237457\n"
     ]
    },
    {
     "data": {
      "application/vnd.jupyter.widget-view+json": {
       "model_id": "d5313854cb514eb6978ec860150234d3",
       "version_major": 2,
       "version_minor": 0
      },
      "text/plain": [
       "  0%|          | 0/559 [00:00<?, ?it/s]"
      ]
     },
     "metadata": {},
     "output_type": "display_data"
    },
    {
     "name": "stdout",
     "output_type": "stream",
     "text": [
      "Epoch 9\n",
      "Train Loss:   0.092299, Valid Loss:   0.238091\n",
      "\n",
      "Best loss Model training with 0.22169482175792968\n",
      "\n"
     ]
    },
    {
     "data": {
      "image/png": "[encoded data removed]",
      "text/plain": [
       "<Figure size 1400x600 with 2 Axes>"
      ]
     },
     "metadata": {},
     "output_type": "display_data"
    },
    {
     "name": "stdout",
     "output_type": "stream",
     "text": [
      "Fold 3:\n"
     ]
    },
    {
     "data": {
      "application/vnd.jupyter.widget-view+json": {
       "model_id": "40b8fd95de1b432fa1df777daa62d51f",
       "version_major": 2,
       "version_minor": 0
      },
      "text/plain": [
       "  0%|          | 0/10 [00:00<?, ?it/s]"
      ]
     },
     "metadata": {},
     "output_type": "display_data"
    },
    {
     "data": {
      "application/vnd.jupyter.widget-view+json": {
       "model_id": "ec5a15acccdc4c1085c8e1c3aca109ea",
       "version_major": 2,
       "version_minor": 0
      },
      "text/plain": [
       "  0%|          | 0/559 [00:00<?, ?it/s]"
      ]
     },
     "metadata": {},
     "output_type": "display_data"
    },
    {
     "name": "stdout",
     "output_type": "stream",
     "text": [
      "Epoch 0\n",
      "Train Loss:   0.281975, Valid Loss:   0.219198\n",
      "Loss improves from        inf to   0.219198\n"
     ]
    },
    {
     "data": {
      "application/vnd.jupyter.widget-view+json": {
       "model_id": "f2d5b38614e24597903c09d4f53d3dac",
       "version_major": 2,
       "version_minor": 0
      },
      "text/plain": [
       "  0%|          | 0/559 [00:00<?, ?it/s]"
      ]
     },
     "metadata": {},
     "output_type": "display_data"
    },
    {
     "name": "stdout",
     "output_type": "stream",
     "text": [
      "Epoch 1\n",
      "Train Loss:   0.241576, Valid Loss:   0.220088\n"
     ]
    },
    {
     "data": {
      "application/vnd.jupyter.widget-view+json": {
       "model_id": "c4d41e2a57c347cfaedc7985e8c62044",
       "version_major": 2,
       "version_minor": 0
      },
      "text/plain": [
       "  0%|          | 0/559 [00:00<?, ?it/s]"
      ]
     },
     "metadata": {},
     "output_type": "display_data"
    },
    {
     "name": "stdout",
     "output_type": "stream",
     "text": [
      "Epoch 2\n",
      "Train Loss:   0.219176, Valid Loss:   0.217451\n",
      "Loss improves from   0.219198 to   0.217451\n"
     ]
    },
    {
     "data": {
      "application/vnd.jupyter.widget-view+json": {
       "model_id": "a73904875e7643cc8fd83d8901ae6527",
       "version_major": 2,
       "version_minor": 0
      },
      "text/plain": [
       "  0%|          | 0/559 [00:00<?, ?it/s]"
      ]
     },
     "metadata": {},
     "output_type": "display_data"
    },
    {
     "name": "stdout",
     "output_type": "stream",
     "text": [
      "Epoch 3\n",
      "Train Loss:   0.196165, Valid Loss:   0.217375\n",
      "Loss improves from   0.217451 to   0.217375\n"
     ]
    },
    {
     "data": {
      "application/vnd.jupyter.widget-view+json": {
       "model_id": "0812c88e97814044b29a0b3920bea2ad",
       "version_major": 2,
       "version_minor": 0
      },
      "text/plain": [
       "  0%|          | 0/559 [00:00<?, ?it/s]"
      ]
     },
     "metadata": {},
     "output_type": "display_data"
    },
    {
     "name": "stdout",
     "output_type": "stream",
     "text": [
      "Epoch 4\n",
      "Train Loss:   0.177421, Valid Loss:   0.220078\n"
     ]
    },
    {
     "data": {
      "application/vnd.jupyter.widget-view+json": {
       "model_id": "f3683e0b47bf44c5ab37ffa92dad1cf1",
       "version_major": 2,
       "version_minor": 0
      },
      "text/plain": [
       "  0%|          | 0/559 [00:00<?, ?it/s]"
      ]
     },
     "metadata": {},
     "output_type": "display_data"
    },
    {
     "name": "stdout",
     "output_type": "stream",
     "text": [
      "Epoch 5\n",
      "Train Loss:   0.157949, Valid Loss:   0.220632\n"
     ]
    },
    {
     "data": {
      "application/vnd.jupyter.widget-view+json": {
       "model_id": "687c23f4809846648d332cc9e7a3674f",
       "version_major": 2,
       "version_minor": 0
      },
      "text/plain": [
       "  0%|          | 0/559 [00:00<?, ?it/s]"
      ]
     },
     "metadata": {},
     "output_type": "display_data"
    },
    {
     "name": "stdout",
     "output_type": "stream",
     "text": [
      "Epoch 6\n",
      "Train Loss:   0.138035, Valid Loss:   0.227742\n"
     ]
    },
    {
     "data": {
      "application/vnd.jupyter.widget-view+json": {
       "model_id": "5c9f093b6e9a4f0785aecac58897fe42",
       "version_major": 2,
       "version_minor": 0
      },
      "text/plain": [
       "  0%|          | 0/559 [00:00<?, ?it/s]"
      ]
     },
     "metadata": {},
     "output_type": "display_data"
    },
    {
     "name": "stdout",
     "output_type": "stream",
     "text": [
      "Epoch 7\n",
      "Train Loss:   0.122720, Valid Loss:   0.246834\n"
     ]
    },
    {
     "data": {
      "application/vnd.jupyter.widget-view+json": {
       "model_id": "0ba7a57456644a36a2ff156b042b40f9",
       "version_major": 2,
       "version_minor": 0
      },
      "text/plain": [
       "  0%|          | 0/559 [00:00<?, ?it/s]"
      ]
     },
     "metadata": {},
     "output_type": "display_data"
    },
    {
     "name": "stdout",
     "output_type": "stream",
     "text": [
      "Epoch 8\n",
      "Train Loss:   0.108878, Valid Loss:   0.238401\n"
     ]
    },
    {
     "data": {
      "application/vnd.jupyter.widget-view+json": {
       "model_id": "b8f72ba8cf934d0682431fc9e6a8be9f",
       "version_major": 2,
       "version_minor": 0
      },
      "text/plain": [
       "  0%|          | 0/559 [00:00<?, ?it/s]"
      ]
     },
     "metadata": {},
     "output_type": "display_data"
    },
    {
     "name": "stdout",
     "output_type": "stream",
     "text": [
      "Epoch 9\n",
      "Train Loss:   0.096617, Valid Loss:   0.239214\n",
      "\n",
      "Best loss Model training with 0.21737470664083958\n",
      "\n"
     ]
    },
    {
     "data": {
      "image/png": "[encoded data removed]",
      "text/plain": [
       "<Figure size 1400x600 with 2 Axes>"
      ]
     },
     "metadata": {},
     "output_type": "display_data"
    },
    {
     "name": "stdout",
     "output_type": "stream",
     "text": [
      "Fold 4:\n"
     ]
    },
    {
     "data": {
      "application/vnd.jupyter.widget-view+json": {
       "model_id": "c2eb8e6291854db18f9f6d2ed91ab1a7",
       "version_major": 2,
       "version_minor": 0
      },
      "text/plain": [
       "  0%|          | 0/10 [00:00<?, ?it/s]"
      ]
     },
     "metadata": {},
     "output_type": "display_data"
    },
    {
     "data": {
      "application/vnd.jupyter.widget-view+json": {
       "model_id": "688373225b444862b996c04196b5af7a",
       "version_major": 2,
       "version_minor": 0
      },
      "text/plain": [
       "  0%|          | 0/560 [00:00<?, ?it/s]"
      ]
     },
     "metadata": {},
     "output_type": "display_data"
    },
    {
     "name": "stdout",
     "output_type": "stream",
     "text": [
      "Epoch 0\n",
      "Train Loss:   0.261878, Valid Loss:   0.245989\n",
      "Loss improves from        inf to   0.245989\n"
     ]
    },
    {
     "data": {
      "application/vnd.jupyter.widget-view+json": {
       "model_id": "543adedb08c1485e8e779b61bc74844c",
       "version_major": 2,
       "version_minor": 0
      },
      "text/plain": [
       "  0%|          | 0/560 [00:00<?, ?it/s]"
      ]
     },
     "metadata": {},
     "output_type": "display_data"
    },
    {
     "name": "stdout",
     "output_type": "stream",
     "text": [
      "Epoch 1\n",
      "Train Loss:   0.221619, Valid Loss:   0.237525\n",
      "Loss improves from   0.245989 to   0.237525\n"
     ]
    },
    {
     "data": {
      "application/vnd.jupyter.widget-view+json": {
       "model_id": "2f6b9a5031ac4b959c55ec299607296e",
       "version_major": 2,
       "version_minor": 0
      },
      "text/plain": [
       "  0%|          | 0/560 [00:00<?, ?it/s]"
      ]
     },
     "metadata": {},
     "output_type": "display_data"
    },
    {
     "name": "stdout",
     "output_type": "stream",
     "text": [
      "Epoch 2\n",
      "Train Loss:   0.204710, Valid Loss:   0.239837\n"
     ]
    },
    {
     "data": {
      "application/vnd.jupyter.widget-view+json": {
       "model_id": "d534c58f65264f6f800952eb611d4200",
       "version_major": 2,
       "version_minor": 0
      },
      "text/plain": [
       "  0%|          | 0/560 [00:00<?, ?it/s]"
      ]
     },
     "metadata": {},
     "output_type": "display_data"
    },
    {
     "name": "stdout",
     "output_type": "stream",
     "text": [
      "Epoch 3\n",
      "Train Loss:   0.184716, Valid Loss:   0.233138\n",
      "Loss improves from   0.237525 to   0.233138\n"
     ]
    },
    {
     "data": {
      "application/vnd.jupyter.widget-view+json": {
       "model_id": "eb55d21f966e48278c02958460f0e9ca",
       "version_major": 2,
       "version_minor": 0
      },
      "text/plain": [
       "  0%|          | 0/560 [00:00<?, ?it/s]"
      ]
     },
     "metadata": {},
     "output_type": "display_data"
    },
    {
     "name": "stdout",
     "output_type": "stream",
     "text": [
      "Epoch 4\n",
      "Train Loss:   0.168130, Valid Loss:   0.239331\n"
     ]
    },
    {
     "data": {
      "application/vnd.jupyter.widget-view+json": {
       "model_id": "ed34cfd09f704a03b9b68dfe409d7aac",
       "version_major": 2,
       "version_minor": 0
      },
      "text/plain": [
       "  0%|          | 0/560 [00:00<?, ?it/s]"
      ]
     },
     "metadata": {},
     "output_type": "display_data"
    },
    {
     "name": "stdout",
     "output_type": "stream",
     "text": [
      "Epoch 5\n",
      "Train Loss:   0.152678, Valid Loss:   0.245117\n"
     ]
    },
    {
     "data": {
      "application/vnd.jupyter.widget-view+json": {
       "model_id": "e4150e2ed9f5434397430241671b9065",
       "version_major": 2,
       "version_minor": 0
      },
      "text/plain": [
       "  0%|          | 0/560 [00:00<?, ?it/s]"
      ]
     },
     "metadata": {},
     "output_type": "display_data"
    },
    {
     "name": "stdout",
     "output_type": "stream",
     "text": [
      "Epoch 6\n",
      "Train Loss:   0.138387, Valid Loss:   0.252168\n"
     ]
    },
    {
     "data": {
      "application/vnd.jupyter.widget-view+json": {
       "model_id": "29f2ad1b537d45d38e6656e04a82816a",
       "version_major": 2,
       "version_minor": 0
      },
      "text/plain": [
       "  0%|          | 0/560 [00:00<?, ?it/s]"
      ]
     },
     "metadata": {},
     "output_type": "display_data"
    },
    {
     "name": "stdout",
     "output_type": "stream",
     "text": [
      "Epoch 7\n",
      "Train Loss:   0.123570, Valid Loss:   0.251131\n"
     ]
    },
    {
     "data": {
      "application/vnd.jupyter.widget-view+json": {
       "model_id": "b709b1767f1040ba99f2bd9d79a29ff3",
       "version_major": 2,
       "version_minor": 0
      },
      "text/plain": [
       "  0%|          | 0/560 [00:00<?, ?it/s]"
      ]
     },
     "metadata": {},
     "output_type": "display_data"
    },
    {
     "name": "stdout",
     "output_type": "stream",
     "text": [
      "Epoch 8\n",
      "Train Loss:   0.109281, Valid Loss:   0.253697\n"
     ]
    },
    {
     "data": {
      "application/vnd.jupyter.widget-view+json": {
       "model_id": "73a04ae66f2e490eb319983e0758e7cf",
       "version_major": 2,
       "version_minor": 0
      },
      "text/plain": [
       "  0%|          | 0/560 [00:00<?, ?it/s]"
      ]
     },
     "metadata": {},
     "output_type": "display_data"
    },
    {
     "name": "stdout",
     "output_type": "stream",
     "text": [
      "Epoch 9\n",
      "Train Loss:   0.100244, Valid Loss:   0.258435\n",
      "\n",
      "Best loss Model training with 0.23313842011349542\n",
      "\n"
     ]
    },
    {
     "data": {
      "image/png": "[encoded data removed]",
      "text/plain": [
       "<Figure size 1400x600 with 2 Axes>"
      ]
     },
     "metadata": {},
     "output_type": "display_data"
    },
    {
     "name": "stdout",
     "output_type": "stream",
     "text": [
      "CPU times: total: 13h 32min 24s\n",
      "Wall time: 5h 7min 34s\n"
     ]
    }
   ],
   "source": [
    "%%time\n",
    "\n",
    "kf = KFold(n_splits=CFG.n_fold, shuffle=True, random_state=CFG.seed)\n",
    "\n",
    "l_best_loss = []\n",
    "for fold, (iloc_train, iloc_valid) in enumerate(kf.split(data)):\n",
    "    print(f\"Fold {fold}:\")\n",
    "    \n",
    "    train_ds = SpecDataset(df=data.iloc[iloc_train])\n",
    "    valid_ds = SpecDataset(df=data.iloc[iloc_valid], mode='valid')\n",
    "    train_loader = DataLoader(dataset=train_ds, shuffle=True, batch_size=CFG.batch_size, num_workers=0, drop_last=True)\n",
    "    valid_loader = DataLoader(dataset=valid_ds, batch_size=CFG.batch_size, num_workers=0)\n",
    "    \n",
    "    model = timm.create_model(model_name=CFG.model_name, pretrained=False, num_classes=6, in_chans=1)\n",
    "    model.to(DEVICE)\n",
    "    model.load_state_dict(torch.load(f'{CFG.model_name}_{fold}.pt'))\n",
    "    \n",
    "    optimizer = optim.AdamW(model.parameters(), lr=CFG.lr)\n",
    "    scheduler = CosineAnnealingLR(optimizer=optimizer, T_max=CFG.epochs)\n",
    "    optimizer, scheduler\n",
    "    best_loss = float(\"inf\")\n",
    "    history = []\n",
    "\n",
    "    for epoch in tqdm(range(CFG.epochs)):\n",
    "        model.train()\n",
    "        l_loss = []\n",
    "        for x, y in tqdm(train_loader):\n",
    "            x, y = x.to(DEVICE), y.to(DEVICE)\n",
    "            y_pred = model(x)\n",
    "            loss = KLDivLoss(y_pred, y)\n",
    "            l_loss.append(loss.item())\n",
    "            loss.backward()\n",
    "            optimizer.step()\n",
    "            optimizer.zero_grad()\n",
    "        train_loss = np.mean(l_loss)\n",
    "        valid_loss = compute_loss(model, valid_loader)\n",
    "        history.append((epoch, train_loss, valid_loss))\n",
    "        print(f\"Epoch {epoch}\")\n",
    "        print(f\"Train Loss: {train_loss:>10.6f}, Valid Loss: {valid_loss:>10.6}\")\n",
    "        if valid_loss < best_loss:\n",
    "            print(f\"Loss improves from {best_loss:>10.6f} to {valid_loss:>10.6}\")\n",
    "            torch.save(model.state_dict(), f\"{CFG.model_name}_{fold}_v2.pt\")\n",
    "            best_loss = valid_loss\n",
    "    print(f\"\\nBest loss Model training with {best_loss}\\n\")\n",
    "    l_best_loss.append(best_loss)\n",
    "    \n",
    "    history = pd.DataFrame(history, columns=[\"epoch\", \"loss\", \"val_loss\"]).set_index(\"epoch\")\n",
    "    history.plot(subplots=True, layout=(1, 2), sharey=\"row\", figsize=(14, 6))\n",
    "    plt.show()\n",
    "    \n",
    "    if CFG.one_fold:\n",
    "        break"
   ]
  },
  {
   "cell_type": "code",
   "execution_count": null,
   "id": "2930c03d",
   "metadata": {},
   "outputs": [],
   "source": []
  }
 ],
 "metadata": {
  "kernelspec": {
   "display_name": "Python 3 (ipykernel)",
   "language": "python",
   "name": "python3"
  },
  "language_info": {
   "codemirror_mode": {
    "name": "ipython",
    "version": 3
   },
   "file_extension": ".py",
   "mimetype": "text/x-python",
   "name": "python",
   "nbconvert_exporter": "python",
   "pygments_lexer": "ipython3",
   "version": "3.10.14"
  }
 },
 "nbformat": 4,
 "nbformat_minor": 5
}
